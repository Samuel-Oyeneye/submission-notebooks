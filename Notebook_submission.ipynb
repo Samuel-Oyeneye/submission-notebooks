{
  "nbformat": 4,
  "nbformat_minor": 0,
  "metadata": {
    "colab": {
      "name": "Notebook_submission.ipynb",
      "provenance": [],
      "mount_file_id": "1FOWRi9W9qbDtgTjCyeMRmmi_h3hnrGeF",
      "authorship_tag": "ABX9TyOnZYCvQU+HE/7MLNC+LBXB",
      "include_colab_link": true
    },
    "kernelspec": {
      "display_name": "Python 3",
      "name": "python3"
    },
    "language_info": {
      "name": "python"
    }
  },
  "cells": [
    {
      "cell_type": "markdown",
      "metadata": {
        "id": "view-in-github",
        "colab_type": "text"
      },
      "source": [
        "<a href=\"https://colab.research.google.com/github/Dhayo-0z/AI-Bootcamp-Submission-notebook/blob/main/Notebook_submission.ipynb\" target=\"_parent\"><img src=\"https://colab.research.google.com/assets/colab-badge.svg\" alt=\"Open In Colab\"/></a>"
      ]
    },
    {
      "cell_type": "code",
      "metadata": {
        "colab": {
          "base_uri": "https://localhost:8080/"
        },
        "id": "iw4NkLvaMjxM",
        "outputId": "967cb50d-0457-4327-8bcf-8e1dd6ea075a"
      },
      "source": [
        "from google.colab import drive\n",
        "drive.mount(\"/content/drive\")"
      ],
      "execution_count": null,
      "outputs": [
        {
          "output_type": "stream",
          "name": "stdout",
          "text": [
            "Mounted at /content/drive\n"
          ]
        }
      ]
    },
    {
      "cell_type": "markdown",
      "metadata": {
        "id": "tANXllijSALB"
      },
      "source": [
        "# Installing Catboost on colab"
      ]
    },
    {
      "cell_type": "code",
      "metadata": {
        "id": "qoJatQYdPEye"
      },
      "source": [
        "%%capture\n",
        "!pip install catboost category-encoders"
      ],
      "execution_count": null,
      "outputs": []
    },
    {
      "cell_type": "markdown",
      "metadata": {
        "id": "IhZHKeajJrnk"
      },
      "source": [
        "# Importing Libraries"
      ]
    },
    {
      "cell_type": "code",
      "metadata": {
        "id": "DfGY246VLyE6",
        "colab": {
          "base_uri": "https://localhost:8080/"
        },
        "outputId": "94d79944-0e1b-44c5-b061-ee2a28fa4f37"
      },
      "source": [
        "## Import required libraries\n",
        "import pandas as pd #for data preprocessing\n",
        "\n",
        "#Data Visualization Libraries\n",
        "import seaborn as sns\n",
        "import matplotlib.pyplot as plt\n",
        "\n",
        "#Linear Algebra\n",
        "import numpy as np\n",
        " \n",
        "#Import Datetime module\n",
        "from datetime import datetime\n",
        "\n",
        "from sklearn.model_selection import StratifiedKFold,GridSearchCV,RandomizedSearchCV, train_test_split#For splitting\n",
        "from category_encoders import TargetEncoder\n",
        "#Evaluation Metrics\n",
        "from sklearn.metrics import accuracy_score, f1_score, roc_auc_score\n",
        "\n",
        "#To ignore unnecessary warnings\n",
        "import warnings\n",
        "\n",
        "from sklearn.preprocessing import LabelEncoder,OneHotEncoder # for encoding categorical variables\n",
        "from sklearn.pipeline import Pipeline"
      ],
      "execution_count": null,
      "outputs": [
        {
          "output_type": "stream",
          "name": "stderr",
          "text": [
            "/usr/local/lib/python3.7/dist-packages/statsmodels/tools/_testing.py:19: FutureWarning: pandas.util.testing is deprecated. Use the functions in the public API at pandas.testing instead.\n",
            "  import pandas.util.testing as tm\n"
          ]
        }
      ]
    },
    {
      "cell_type": "code",
      "metadata": {
        "id": "1CN7QWZpL6t5"
      },
      "source": [
        "warnings.filterwarnings(\"ignore\")"
      ],
      "execution_count": null,
      "outputs": []
    },
    {
      "cell_type": "markdown",
      "metadata": {
        "id": "lfRyRXOzJ9GL"
      },
      "source": [
        "# Get the Data"
      ]
    },
    {
      "cell_type": "code",
      "metadata": {
        "id": "PUs9korIML-D"
      },
      "source": [
        "#For Notebook Locally\n",
        "train = pd.read_csv(\"drive/MyDrive/Colab Notebooks/Train.csv\")\n",
        "test = pd.read_csv(\"drive/MyDrive/Colab Notebooks/Test.csv\")"
      ],
      "execution_count": null,
      "outputs": []
    },
    {
      "cell_type": "code",
      "metadata": {
        "id": "dnjPNI7_KIF0",
        "colab": {
          "base_uri": "https://localhost:8080/",
          "height": 224
        },
        "outputId": "99f6bbbb-0b9a-4eb1-cbf5-d26a70dcd526"
      },
      "source": [
        "train.head()"
      ],
      "execution_count": null,
      "outputs": [
        {
          "output_type": "execute_result",
          "data": {
            "text/html": [
              "<div>\n",
              "<style scoped>\n",
              "    .dataframe tbody tr th:only-of-type {\n",
              "        vertical-align: middle;\n",
              "    }\n",
              "\n",
              "    .dataframe tbody tr th {\n",
              "        vertical-align: top;\n",
              "    }\n",
              "\n",
              "    .dataframe thead th {\n",
              "        text-align: right;\n",
              "    }\n",
              "</style>\n",
              "<table border=\"1\" class=\"dataframe\">\n",
              "  <thead>\n",
              "    <tr style=\"text-align: right;\">\n",
              "      <th></th>\n",
              "      <th>ID</th>\n",
              "      <th>Year_of_Birth</th>\n",
              "      <th>Education_Level</th>\n",
              "      <th>Marital_Status</th>\n",
              "      <th>Disposable_Income</th>\n",
              "      <th>No_of_Kids_in_home</th>\n",
              "      <th>No_of_Teen_in_home</th>\n",
              "      <th>Date_Customer</th>\n",
              "      <th>Recency</th>\n",
              "      <th>Discounted_Purchases</th>\n",
              "      <th>WebPurchases</th>\n",
              "      <th>CatalogPurchases</th>\n",
              "      <th>StorePurchases</th>\n",
              "      <th>Amount_on_Wines</th>\n",
              "      <th>Amount_on_Fruits</th>\n",
              "      <th>Amount_on_MeatProducts</th>\n",
              "      <th>Amount_on_FishProducts</th>\n",
              "      <th>Amount_on_SweetProducts</th>\n",
              "      <th>Amount_on_GoldProds</th>\n",
              "      <th>WebVisitsMonth</th>\n",
              "      <th>Cmp3Accepted</th>\n",
              "      <th>Cmp4Accepted</th>\n",
              "      <th>Cmp5Accepted</th>\n",
              "      <th>Cmp1Accepted</th>\n",
              "      <th>Cmp2Accepted</th>\n",
              "      <th>Any_Complain</th>\n",
              "      <th>Response</th>\n",
              "    </tr>\n",
              "  </thead>\n",
              "  <tbody>\n",
              "    <tr>\n",
              "      <th>0</th>\n",
              "      <td>ID_4A9AR6FQ</td>\n",
              "      <td>1955</td>\n",
              "      <td>Graduation</td>\n",
              "      <td>Divorced</td>\n",
              "      <td>77504.4</td>\n",
              "      <td>1</td>\n",
              "      <td>1</td>\n",
              "      <td>22-06-2014</td>\n",
              "      <td>56</td>\n",
              "      <td>2</td>\n",
              "      <td>1</td>\n",
              "      <td>1</td>\n",
              "      <td>4</td>\n",
              "      <td>71</td>\n",
              "      <td>3</td>\n",
              "      <td>16</td>\n",
              "      <td>0</td>\n",
              "      <td>6</td>\n",
              "      <td>20</td>\n",
              "      <td>3</td>\n",
              "      <td>0</td>\n",
              "      <td>0</td>\n",
              "      <td>0</td>\n",
              "      <td>0</td>\n",
              "      <td>0</td>\n",
              "      <td>0</td>\n",
              "      <td>0</td>\n",
              "    </tr>\n",
              "    <tr>\n",
              "      <th>1</th>\n",
              "      <td>ID_X28T3VEK</td>\n",
              "      <td>1958</td>\n",
              "      <td>Graduation</td>\n",
              "      <td>Together</td>\n",
              "      <td>56784.0</td>\n",
              "      <td>0</td>\n",
              "      <td>1</td>\n",
              "      <td>01-08-2013</td>\n",
              "      <td>17</td>\n",
              "      <td>6</td>\n",
              "      <td>5</td>\n",
              "      <td>1</td>\n",
              "      <td>8</td>\n",
              "      <td>205</td>\n",
              "      <td>22</td>\n",
              "      <td>111</td>\n",
              "      <td>50</td>\n",
              "      <td>15</td>\n",
              "      <td>19</td>\n",
              "      <td>6</td>\n",
              "      <td>0</td>\n",
              "      <td>0</td>\n",
              "      <td>0</td>\n",
              "      <td>0</td>\n",
              "      <td>0</td>\n",
              "      <td>0</td>\n",
              "      <td>0</td>\n",
              "    </tr>\n",
              "    <tr>\n",
              "      <th>2</th>\n",
              "      <td>ID_AWXARH57</td>\n",
              "      <td>1962</td>\n",
              "      <td>Graduation</td>\n",
              "      <td>Single</td>\n",
              "      <td>103714.8</td>\n",
              "      <td>0</td>\n",
              "      <td>0</td>\n",
              "      <td>21-11-2013</td>\n",
              "      <td>17</td>\n",
              "      <td>0</td>\n",
              "      <td>7</td>\n",
              "      <td>4</td>\n",
              "      <td>7</td>\n",
              "      <td>469</td>\n",
              "      <td>31</td>\n",
              "      <td>873</td>\n",
              "      <td>29</td>\n",
              "      <td>18</td>\n",
              "      <td>37</td>\n",
              "      <td>2</td>\n",
              "      <td>0</td>\n",
              "      <td>0</td>\n",
              "      <td>0</td>\n",
              "      <td>1</td>\n",
              "      <td>0</td>\n",
              "      <td>0</td>\n",
              "      <td>1</td>\n",
              "    </tr>\n",
              "    <tr>\n",
              "      <th>3</th>\n",
              "      <td>ID_FQVZHE81</td>\n",
              "      <td>1979</td>\n",
              "      <td>2n Cycle</td>\n",
              "      <td>Single</td>\n",
              "      <td>46311.6</td>\n",
              "      <td>1</td>\n",
              "      <td>0</td>\n",
              "      <td>13-09-2013</td>\n",
              "      <td>49</td>\n",
              "      <td>3</td>\n",
              "      <td>4</td>\n",
              "      <td>1</td>\n",
              "      <td>3</td>\n",
              "      <td>56</td>\n",
              "      <td>15</td>\n",
              "      <td>49</td>\n",
              "      <td>17</td>\n",
              "      <td>24</td>\n",
              "      <td>24</td>\n",
              "      <td>8</td>\n",
              "      <td>0</td>\n",
              "      <td>0</td>\n",
              "      <td>0</td>\n",
              "      <td>0</td>\n",
              "      <td>0</td>\n",
              "      <td>0</td>\n",
              "      <td>0</td>\n",
              "    </tr>\n",
              "    <tr>\n",
              "      <th>4</th>\n",
              "      <td>ID_QVLWGPRN</td>\n",
              "      <td>1959</td>\n",
              "      <td>Graduation</td>\n",
              "      <td>Married</td>\n",
              "      <td>87486.0</td>\n",
              "      <td>0</td>\n",
              "      <td>0</td>\n",
              "      <td>21-01-2014</td>\n",
              "      <td>59</td>\n",
              "      <td>1</td>\n",
              "      <td>3</td>\n",
              "      <td>7</td>\n",
              "      <td>9</td>\n",
              "      <td>412</td>\n",
              "      <td>117</td>\n",
              "      <td>445</td>\n",
              "      <td>181</td>\n",
              "      <td>165</td>\n",
              "      <td>203</td>\n",
              "      <td>1</td>\n",
              "      <td>0</td>\n",
              "      <td>0</td>\n",
              "      <td>0</td>\n",
              "      <td>1</td>\n",
              "      <td>0</td>\n",
              "      <td>0</td>\n",
              "      <td>0</td>\n",
              "    </tr>\n",
              "  </tbody>\n",
              "</table>\n",
              "</div>"
            ],
            "text/plain": [
              "            ID  Year_of_Birth  ... Any_Complain Response\n",
              "0  ID_4A9AR6FQ           1955  ...            0        0\n",
              "1  ID_X28T3VEK           1958  ...            0        0\n",
              "2  ID_AWXARH57           1962  ...            0        1\n",
              "3  ID_FQVZHE81           1979  ...            0        0\n",
              "4  ID_QVLWGPRN           1959  ...            0        0\n",
              "\n",
              "[5 rows x 27 columns]"
            ]
          },
          "metadata": {},
          "execution_count": 6
        }
      ]
    },
    {
      "cell_type": "code",
      "metadata": {
        "id": "u818QeTgNQIi"
      },
      "source": [
        "#Dropping the ID column from train and test\n",
        "train.drop('ID', axis=1, inplace=True)\n",
        "test.drop('ID', axis=1, inplace=True)"
      ],
      "execution_count": null,
      "outputs": []
    },
    {
      "cell_type": "code",
      "metadata": {
        "colab": {
          "base_uri": "https://localhost:8080/"
        },
        "id": "io6AN29zNW2G",
        "outputId": "ff407b77-77b4-438b-c6ba-1d6b0354792b"
      },
      "source": [
        "train.info()"
      ],
      "execution_count": null,
      "outputs": [
        {
          "output_type": "stream",
          "name": "stdout",
          "text": [
            "<class 'pandas.core.frame.DataFrame'>\n",
            "RangeIndex: 1568 entries, 0 to 1567\n",
            "Data columns (total 26 columns):\n",
            " #   Column                   Non-Null Count  Dtype  \n",
            "---  ------                   --------------  -----  \n",
            " 0   Year_of_Birth            1568 non-null   int64  \n",
            " 1   Education_Level          1568 non-null   object \n",
            " 2   Marital_Status           1568 non-null   object \n",
            " 3   Disposable_Income        1552 non-null   float64\n",
            " 4   No_of_Kids_in_home       1568 non-null   int64  \n",
            " 5   No_of_Teen_in_home       1568 non-null   int64  \n",
            " 6   Date_Customer            1568 non-null   object \n",
            " 7   Recency                  1568 non-null   int64  \n",
            " 8   Discounted_Purchases     1568 non-null   int64  \n",
            " 9   WebPurchases             1568 non-null   int64  \n",
            " 10  CatalogPurchases         1568 non-null   int64  \n",
            " 11  StorePurchases           1568 non-null   int64  \n",
            " 12  Amount_on_Wines          1568 non-null   int64  \n",
            " 13  Amount_on_Fruits         1568 non-null   int64  \n",
            " 14  Amount_on_MeatProducts   1568 non-null   int64  \n",
            " 15  Amount_on_FishProducts   1568 non-null   int64  \n",
            " 16  Amount_on_SweetProducts  1568 non-null   int64  \n",
            " 17  Amount_on_GoldProds      1568 non-null   int64  \n",
            " 18  WebVisitsMonth           1568 non-null   int64  \n",
            " 19  Cmp3Accepted             1568 non-null   int64  \n",
            " 20  Cmp4Accepted             1568 non-null   int64  \n",
            " 21  Cmp5Accepted             1568 non-null   int64  \n",
            " 22  Cmp1Accepted             1568 non-null   int64  \n",
            " 23  Cmp2Accepted             1568 non-null   int64  \n",
            " 24  Any_Complain             1568 non-null   int64  \n",
            " 25  Response                 1568 non-null   int64  \n",
            "dtypes: float64(1), int64(22), object(3)\n",
            "memory usage: 318.6+ KB\n"
          ]
        }
      ]
    },
    {
      "cell_type": "code",
      "metadata": {
        "colab": {
          "base_uri": "https://localhost:8080/"
        },
        "id": "nQ9CCUK1OpMF",
        "outputId": "eb4ab336-6357-41bc-aee0-b914c2f9fa61"
      },
      "source": [
        "test.info()"
      ],
      "execution_count": null,
      "outputs": [
        {
          "output_type": "stream",
          "name": "stdout",
          "text": [
            "<class 'pandas.core.frame.DataFrame'>\n",
            "RangeIndex: 672 entries, 0 to 671\n",
            "Data columns (total 25 columns):\n",
            " #   Column                   Non-Null Count  Dtype  \n",
            "---  ------                   --------------  -----  \n",
            " 0   Year_of_Birth            672 non-null    int64  \n",
            " 1   Education_Level          672 non-null    object \n",
            " 2   Marital_Status           672 non-null    object \n",
            " 3   Disposable_Income        664 non-null    float64\n",
            " 4   No_of_Kids_in_home       672 non-null    int64  \n",
            " 5   No_of_Teen_in_home       672 non-null    int64  \n",
            " 6   Date_Customer            672 non-null    object \n",
            " 7   Recency                  672 non-null    int64  \n",
            " 8   Discounted_Purchases     672 non-null    int64  \n",
            " 9   WebPurchases             672 non-null    int64  \n",
            " 10  CatalogPurchases         672 non-null    int64  \n",
            " 11  StorePurchases           672 non-null    int64  \n",
            " 12  Amount_on_Wines          672 non-null    int64  \n",
            " 13  Amount_on_Fruits         672 non-null    int64  \n",
            " 14  Amount_on_MeatProducts   672 non-null    int64  \n",
            " 15  Amount_on_FishProducts   672 non-null    int64  \n",
            " 16  Amount_on_SweetProducts  672 non-null    int64  \n",
            " 17  Amount_on_GoldProds      672 non-null    int64  \n",
            " 18  WebVisitsMonth           672 non-null    int64  \n",
            " 19  Cmp3Accepted             672 non-null    int64  \n",
            " 20  Cmp4Accepted             672 non-null    int64  \n",
            " 21  Cmp5Accepted             672 non-null    int64  \n",
            " 22  Cmp1Accepted             672 non-null    int64  \n",
            " 23  Cmp2Accepted             672 non-null    int64  \n",
            " 24  Any_Complain             672 non-null    int64  \n",
            "dtypes: float64(1), int64(21), object(3)\n",
            "memory usage: 131.4+ KB\n"
          ]
        }
      ]
    },
    {
      "cell_type": "code",
      "metadata": {
        "colab": {
          "base_uri": "https://localhost:8080/"
        },
        "id": "0J3HZp4xOxsY",
        "outputId": "74ef8e59-ab16-4a25-fe5e-2c14939c971b"
      },
      "source": [
        "train.isnull().sum()"
      ],
      "execution_count": null,
      "outputs": [
        {
          "output_type": "execute_result",
          "data": {
            "text/plain": [
              "Year_of_Birth               0\n",
              "Education_Level             0\n",
              "Marital_Status              0\n",
              "Disposable_Income          16\n",
              "No_of_Kids_in_home          0\n",
              "No_of_Teen_in_home          0\n",
              "Date_Customer               0\n",
              "Recency                     0\n",
              "Discounted_Purchases        0\n",
              "WebPurchases                0\n",
              "CatalogPurchases            0\n",
              "StorePurchases              0\n",
              "Amount_on_Wines             0\n",
              "Amount_on_Fruits            0\n",
              "Amount_on_MeatProducts      0\n",
              "Amount_on_FishProducts      0\n",
              "Amount_on_SweetProducts     0\n",
              "Amount_on_GoldProds         0\n",
              "WebVisitsMonth              0\n",
              "Cmp3Accepted                0\n",
              "Cmp4Accepted                0\n",
              "Cmp5Accepted                0\n",
              "Cmp1Accepted                0\n",
              "Cmp2Accepted                0\n",
              "Any_Complain                0\n",
              "Response                    0\n",
              "dtype: int64"
            ]
          },
          "metadata": {},
          "execution_count": 10
        }
      ]
    },
    {
      "cell_type": "code",
      "metadata": {
        "id": "UGwUSKY_KV1K",
        "colab": {
          "base_uri": "https://localhost:8080/"
        },
        "outputId": "d25361a5-4f4c-4363-973a-403e50d58941"
      },
      "source": [
        "test.isnull().sum()"
      ],
      "execution_count": null,
      "outputs": [
        {
          "output_type": "execute_result",
          "data": {
            "text/plain": [
              "Year_of_Birth              0\n",
              "Education_Level            0\n",
              "Marital_Status             0\n",
              "Disposable_Income          8\n",
              "No_of_Kids_in_home         0\n",
              "No_of_Teen_in_home         0\n",
              "Date_Customer              0\n",
              "Recency                    0\n",
              "Discounted_Purchases       0\n",
              "WebPurchases               0\n",
              "CatalogPurchases           0\n",
              "StorePurchases             0\n",
              "Amount_on_Wines            0\n",
              "Amount_on_Fruits           0\n",
              "Amount_on_MeatProducts     0\n",
              "Amount_on_FishProducts     0\n",
              "Amount_on_SweetProducts    0\n",
              "Amount_on_GoldProds        0\n",
              "WebVisitsMonth             0\n",
              "Cmp3Accepted               0\n",
              "Cmp4Accepted               0\n",
              "Cmp5Accepted               0\n",
              "Cmp1Accepted               0\n",
              "Cmp2Accepted               0\n",
              "Any_Complain               0\n",
              "dtype: int64"
            ]
          },
          "metadata": {},
          "execution_count": 11
        }
      ]
    },
    {
      "cell_type": "markdown",
      "metadata": {
        "id": "PACPzN26LD_-"
      },
      "source": [
        "# Importing the models"
      ]
    },
    {
      "cell_type": "code",
      "metadata": {
        "id": "18Zx4YgOO3DT"
      },
      "source": [
        "from lightgbm import LGBMClassifier #install this library using pip install lgbm if you don't have it \n",
        "from catboost import CatBoostClassifier #Install this Library using pip install catboost, before importing if you don't have it \n",
        "#from rgf import RGFClassifier\n",
        "from sklearn.ensemble import RandomForestClassifier, StackingClassifier, VotingClassifier\n",
        "from xgboost import XGBClassifier"
      ],
      "execution_count": null,
      "outputs": []
    },
    {
      "cell_type": "markdown",
      "metadata": {
        "id": "g9OQrBF_Mk_B"
      },
      "source": [
        "# Model Evaluation"
      ]
    },
    {
      "cell_type": "code",
      "metadata": {
        "colab": {
          "base_uri": "https://localhost:8080/",
          "height": 279
        },
        "id": "wf5o9iQDZvUm",
        "outputId": "d2525fc0-1c48-45c1-ce11-cb92caea7a9d"
      },
      "source": [
        "# Visualizing the target column entries \n",
        "train.Response.value_counts().plot(kind='bar')"
      ],
      "execution_count": null,
      "outputs": [
        {
          "output_type": "execute_result",
          "data": {
            "text/plain": [
              "<matplotlib.axes._subplots.AxesSubplot at 0x7f6f5c0f81d0>"
            ]
          },
          "metadata": {},
          "execution_count": 30
        },
        {
          "output_type": "display_data",
          "data": {
            "image/png": "[encoded data removed]",
            "text/plain": [
              "<Figure size 432x288 with 1 Axes>"
            ]
          },
          "metadata": {
            "needs_background": "light"
          }
        }
      ]
    },
    {
      "cell_type": "code",
      "metadata": {
        "id": "2GByJXSjO_B3"
      },
      "source": [
        "# evaluating the model on data\n",
        "\n",
        "# this is where I create the model, adding my scale_pos_weight = count of zeros(higher) / count of ones(lower)\n",
        "cat = CatBoostClassifier(verbose=False, scale_pos_weight=5.561, random_seed=42)\n",
        "xg = XGBClassifier(scale_pos_weight=5.561)\n",
        "lg = LGBMClassifier( scale_pos_weight=5.561)\n",
        "rf =  RandomForestClassifier(n_estimators=200, random_state=42)\n",
        "\n",
        "# function to split the data into train and test including the prediction of the models\n",
        "def evaluate_model(X, y):\n",
        "    # Split data\n",
        "    X_train, X_test, y_train, y_test = train_test_split(X, y, test_size=0.2, random_state=42)\n",
        "    \n",
        "    # Catboost\n",
        "    cat.fit(X_train, y_train)\n",
        "    y_pred = cat.predict(X_test)\n",
        "    print(\"CatBoost F1 score on validation set is : \",f1_score(y_test,y_pred))\n",
        "    print('--------'*20)\n",
        "\n",
        "    # LGBM\n",
        "    lg.fit(X_train, y_train)\n",
        "    y_pred = lg.predict(X_test)\n",
        "    print(\"LGBM F1 score on validation set is : \",f1_score(y_test,y_pred))\n",
        "    print('--------'*20)\n",
        "\n",
        "    # XGBoost\n",
        "    xg.fit(X_train, y_train)\n",
        "    y_pred = xg.predict(X_test)\n",
        "    print(\"XGBoost F1 score on validation set is : \",f1_score(y_test,y_pred))\n",
        "    print('--------'*20)"
      ],
      "execution_count": null,
      "outputs": []
    },
    {
      "cell_type": "markdown",
      "metadata": {
        "id": "LenetXUyMtAy"
      },
      "source": [
        "### Encoding\n",
        "### Categorical Encoding(Target)"
      ]
    },
    {
      "cell_type": "code",
      "metadata": {
        "id": "PHTWEgPbPES-"
      },
      "source": [
        "# Target encoding Categorical Variables\n",
        "\n",
        "def target_encode(cols, train_data, test_data):\n",
        "    for col in cols:\n",
        "        target_enc = TargetEncoder() # Instantiate Target Encoder \n",
        "        train_data[col] =target_enc.fit_transform(train_data[col], train_data.Response) # Fit transform the encoder on your data\n",
        "        test_data[col] =  target_enc.transform(test_data[col])"
      ],
      "execution_count": null,
      "outputs": []
    },
    {
      "cell_type": "markdown",
      "metadata": {
        "id": "3EQc_wIMNFLk"
      },
      "source": [
        "### Feature Engineering"
      ]
    },
    {
      "cell_type": "code",
      "metadata": {
        "id": "iQVEnxRdPhDV"
      },
      "source": [
        "# converting the data_customer to datetime and creating extra features (year and month)\n",
        "\n",
        "train['Year_Joined'] = pd.to_datetime(train['Date_Customer']).dt.year\n",
        "train['Month_Joined'] = pd.to_datetime(train['Date_Customer']).dt.month\n",
        "# train['Day_Joined'] = pd.to_datetime(train['Date_Customer']).dt.day_name()\n",
        "\n",
        "test['Year_Joined'] = pd.to_datetime(test['Date_Customer']).dt.year\n",
        "test['Month_Joined'] = pd.to_datetime(test['Date_Customer']).dt.month\n",
        "# test['Day_Joined'] = pd.to_datetime(test['Date_Customer']).dt.day_name()"
      ],
      "execution_count": null,
      "outputs": []
    },
    {
      "cell_type": "code",
      "metadata": {
        "id": "eMKUddUyPy6L"
      },
      "source": [
        ""
      ],
      "execution_count": null,
      "outputs": []
    },
    {
      "cell_type": "markdown",
      "metadata": {
        "id": "bYsezUizNmtx"
      },
      "source": [
        "### Filling missing values (median)"
      ]
    },
    {
      "cell_type": "code",
      "metadata": {
        "id": "YB8wB6GBPmhH"
      },
      "source": [
        "train['Disposable_Income'].fillna((train['Disposable_Income'].median()) , inplace = True)\n",
        "train.drop('Date_Customer', axis=1, inplace=True)\n",
        "\n",
        "\n",
        "test['Disposable_Income'].fillna((test['Disposable_Income'].median()) , inplace = True)\n",
        "test.drop('Date_Customer', axis=1, inplace=True)"
      ],
      "execution_count": null,
      "outputs": []
    },
    {
      "cell_type": "code",
      "metadata": {
        "id": "mVn5Gdc-OCkR"
      },
      "source": [
        ""
      ],
      "execution_count": null,
      "outputs": []
    },
    {
      "cell_type": "markdown",
      "metadata": {
        "id": "_wmlgjfJOEiB"
      },
      "source": [
        "Seperating the categorical columns and numerical before calling the function to target encoding the categorical columns"
      ]
    },
    {
      "cell_type": "code",
      "metadata": {
        "colab": {
          "base_uri": "https://localhost:8080/"
        },
        "id": "u_mB7XKSP1ca",
        "outputId": "d764de80-6bd6-4fd9-e68f-3d6ec519fa7f"
      },
      "source": [
        "# separate catgorical and numerical column\n",
        "# categ_cols == categorical columns . Date column not added\n",
        "categ_cols = train.select_dtypes(include=['object', 'category']).columns\n",
        "\n",
        "# num column == numerical columns + date column added\n",
        "num_cols = [col for col in train.columns if col not in categ_cols]\n",
        "print(f'The Categorical Columns are: {categ_cols}')\n",
        "print(f'The Numerical Columns are: {num_cols}')"
      ],
      "execution_count": null,
      "outputs": [
        {
          "output_type": "stream",
          "name": "stdout",
          "text": [
            "The Categorical Columns are: Index(['Education_Level', 'Marital_Status'], dtype='object')\n",
            "The Numerical Columns are: ['Year_of_Birth', 'Disposable_Income', 'No_of_Kids_in_home', 'No_of_Teen_in_home', 'Recency', 'Discounted_Purchases', 'WebPurchases', 'CatalogPurchases', 'StorePurchases', 'Amount_on_Wines', 'Amount_on_Fruits', 'Amount_on_MeatProducts', 'Amount_on_FishProducts', 'Amount_on_SweetProducts', 'Amount_on_GoldProds', 'WebVisitsMonth', 'Cmp3Accepted', 'Cmp4Accepted', 'Cmp5Accepted', 'Cmp1Accepted', 'Cmp2Accepted', 'Any_Complain', 'Response', 'Year_Joined', 'Month_Joined']\n"
          ]
        }
      ]
    },
    {
      "cell_type": "code",
      "metadata": {
        "id": "3N7pdtD0P4Zm"
      },
      "source": [
        "# Call the function that target encodes your data \n",
        "target_encode(categ_cols,train, test)"
      ],
      "execution_count": null,
      "outputs": []
    },
    {
      "cell_type": "markdown",
      "metadata": {
        "id": "LuPSn5QWPDzn"
      },
      "source": [
        "### Validating"
      ]
    },
    {
      "cell_type": "markdown",
      "metadata": {
        "id": "rt0sDo16PLHK"
      },
      "source": [
        "Create a copy, extra features and evaluate"
      ]
    },
    {
      "cell_type": "code",
      "metadata": {
        "colab": {
          "base_uri": "https://localhost:8080/"
        },
        "id": "UjxMGJk5P9N7",
        "outputId": "094b4489-b7df-480e-87c6-40b8024b5cde"
      },
      "source": [
        "train_copy = train.copy()\n",
        "train_copy['Customer_Year'] = 2021 - train_copy['Year_Joined'] \n",
        "train_copy['Avg_WebPurchase_per_year'] = train_copy.WebPurchases / train_copy.Customer_Year\n",
        "train_copy['Recency_weeks'] = train_copy['Recency'].apply(lambda x: x/7)\n",
        "\n",
        "y = train_copy.Response\n",
        "X = train_copy.drop(['Response'], axis=1)\n",
        "print(X.columns, X.shape)\n",
        "train_copy\n",
        "evaluate_model(X, y)"
      ],
      "execution_count": null,
      "outputs": [
        {
          "output_type": "stream",
          "name": "stdout",
          "text": [
            "Index(['Year_of_Birth', 'Education_Level', 'Marital_Status',\n",
            "       'Disposable_Income', 'No_of_Kids_in_home', 'No_of_Teen_in_home',\n",
            "       'Recency', 'Discounted_Purchases', 'WebPurchases', 'CatalogPurchases',\n",
            "       'StorePurchases', 'Amount_on_Wines', 'Amount_on_Fruits',\n",
            "       'Amount_on_MeatProducts', 'Amount_on_FishProducts',\n",
            "       'Amount_on_SweetProducts', 'Amount_on_GoldProds', 'WebVisitsMonth',\n",
            "       'Cmp3Accepted', 'Cmp4Accepted', 'Cmp5Accepted', 'Cmp1Accepted',\n",
            "       'Cmp2Accepted', 'Any_Complain', 'Year_Joined', 'Month_Joined',\n",
            "       'Customer_Year', 'Avg_WebPurchase_per_year', 'Recency_weeks'],\n",
            "      dtype='object') (1568, 29)\n",
            "CatBoost F1 score on validation set is :  0.5681818181818181\n",
            "----------------------------------------------------------------------------------------------------------------------------------------------------------------\n",
            "LGBM F1 score on validation set is :  0.611764705882353\n",
            "----------------------------------------------------------------------------------------------------------------------------------------------------------------\n",
            "XGBoost F1 score on validation set is :  0.5\n",
            "----------------------------------------------------------------------------------------------------------------------------------------------------------------\n"
          ]
        }
      ]
    },
    {
      "cell_type": "code",
      "metadata": {
        "id": "h1rYyN5sQAvr"
      },
      "source": [
        "train_copy = train.copy() # Make a copy the train data\n",
        "train_copy['Customer_Age'] = 2021 - train_copy['Year_Joined'] \n",
        "train_copy['Avg_WebPurchase_per_year'] = train_copy.WebPurchases / train_copy.Customer_Age  \n",
        "train_copy['Recency_weeks'] = train_copy['Recency'].apply(lambda x: x/7)\n",
        "X = train_copy.drop(['Response'], axis=1)\n",
        "\n",
        "test_copy = test.copy() # Make a copy of the test data\n",
        "test_copy['Customer_Age'] = 2021 - test_copy['Year_Joined'] \n",
        "test_copy['Avg_WebPurchase_per_year'] = test_copy.WebPurchases / test_copy.Customer_Age  \n",
        "test_copy['Recency_weeks'] = test_copy['Recency'].apply(lambda x: x/7)"
      ],
      "execution_count": null,
      "outputs": []
    },
    {
      "cell_type": "markdown",
      "metadata": {
        "id": "d7NNtgkoQCTf"
      },
      "source": [
        "Function for cross validating </br>\n",
        "storing them in a for loop..."
      ]
    },
    {
      "cell_type": "code",
      "metadata": {
        "id": "0OUm2QpSQJ_n"
      },
      "source": [
        "def stratified_cross_val(X, y, mod, test_data, splits=8, seed=42):\n",
        "    \n",
        "    skf =  StratifiedKFold(n_splits=splits, shuffle=True, random_state=seed)\n",
        "\n",
        "    scores = [] # a list to store our validation scores\n",
        "\n",
        "    preds = []  # a list to store our prediction per splits\n",
        "\n",
        "    model = mod # Instantiate your model\n",
        "\n",
        "    i = 1\n",
        "    for train, test in skf.split(X, y):\n",
        "        x_train, x_test, y_train, y_test = X.iloc[train], X.iloc[test], y.iloc[train], y.iloc[test]\n",
        "        model.fit(x_train, y_train)\n",
        "        score = f1_score(y_test, model.predict(x_test))\n",
        "        print(f'Number of splits trained : {i} \\t F1 Score:  {score}')\n",
        "        pred = model.predict_proba(test_data)[:, 1]\n",
        "        scores.append(score)\n",
        "        preds.append(pred)\n",
        "        i += 1\n",
        "\n",
        "    print('The average F1 Score: ', np.mean(scores)) # The mean of our validation scores\n",
        "\n",
        "    return preds"
      ],
      "execution_count": null,
      "outputs": []
    },
    {
      "cell_type": "markdown",
      "metadata": {
        "id": "eiaG7OABScoV"
      },
      "source": [
        "### Running the prediction on the test set"
      ]
    },
    {
      "cell_type": "code",
      "metadata": {
        "colab": {
          "base_uri": "https://localhost:8080/"
        },
        "id": "SW8vwi5KQOO2",
        "outputId": "825300c3-0f5e-4b9f-80cf-9502cdc17ebe"
      },
      "source": [
        "test_copy\n",
        "preds = stratified_cross_val(X, y, cat,test_copy)"
      ],
      "execution_count": null,
      "outputs": [
        {
          "output_type": "stream",
          "name": "stdout",
          "text": [
            "Number of splits trained : 1 \t F1 Score:  0.5454545454545454\n",
            "Number of splits trained : 2 \t F1 Score:  0.6440677966101694\n",
            "Number of splits trained : 3 \t F1 Score:  0.6666666666666666\n",
            "Number of splits trained : 4 \t F1 Score:  0.6567164179104478\n",
            "Number of splits trained : 5 \t F1 Score:  0.6296296296296297\n",
            "Number of splits trained : 6 \t F1 Score:  0.6\n",
            "Number of splits trained : 7 \t F1 Score:  0.5970149253731343\n",
            "Number of splits trained : 8 \t F1 Score:  0.65625\n",
            "The average F1 Score:  0.6244749977055741\n"
          ]
        }
      ]
    },
    {
      "cell_type": "code",
      "metadata": {
        "id": "K7_2LlqVQSJV"
      },
      "source": [
        "preds_mean = np.mean(preds, axis=0) # The average of the predictions per row\n",
        "\n",
        "final = [] # list to store our final predicitions\n",
        "\n",
        "\n",
        "for x in preds_mean:\n",
        "    if x > 0.35:\n",
        "        final.append(1)\n",
        "    else:\n",
        "        final.append(0)\n"
      ],
      "execution_count": null,
      "outputs": []
    },
    {
      "cell_type": "markdown",
      "metadata": {
        "id": "MS5i7-z8Sq7N"
      },
      "source": [
        "# Create the submission file "
      ]
    },
    {
      "cell_type": "code",
      "metadata": {
        "id": "_FYx-NH_Ryxh"
      },
      "source": [
        "# Creating the submission file\n",
        "submission= pd.read_csv('drive/MyDrive/Colab Notebooks/SampleSubmission.csv')\n",
        "submission.Response= final\n",
        "submission.to_csv(\"final_submission\", index= False)\n"
      ],
      "execution_count": null,
      "outputs": []
    },
    {
      "cell_type": "markdown",
      "metadata": {
        "id": "83QeGxvlSKPp"
      },
      "source": [
        "# New Section"
      ]
    },
    {
      "cell_type": "code",
      "metadata": {
        "colab": {
          "base_uri": "https://localhost:8080/",
          "height": 341
        },
        "id": "IypyosZFXfmr",
        "outputId": "07e5ecf4-8a68-4a45-961d-a6b341482304"
      },
      "source": [
        "# to convert to pdg\n",
        "!wget -nc https://raw.githubusercontent.com/brpy/colab-pdf/master/colab_pdf.py\n",
        "from colab_pdf import colab_pdf\n",
        "colab_pdf('Notebook_submission.ipynb')"
      ],
      "execution_count": null,
      "outputs": [
        {
          "output_type": "stream",
          "name": "stdout",
          "text": [
            "File ‘colab_pdf.py’ already there; not retrieving.\n",
            "\n",
            "\n",
            "WARNING: apt does not have a stable CLI interface. Use with caution in scripts.\n",
            "\n",
            "\n",
            "WARNING: apt does not have a stable CLI interface. Use with caution in scripts.\n",
            "\n",
            "[NbConvertApp] Converting notebook /content/drive/MyDrive/Colab Notebooks/Notebook_submission.ipynb to pdf\n",
            "[NbConvertApp] Support files will be in Notebook_submission_files/\n",
            "[NbConvertApp] Making directory ./Notebook_submission_files\n",
            "[NbConvertApp] Writing 59808 bytes to ./notebook.tex\n",
            "[NbConvertApp] Building PDF\n",
            "[NbConvertApp] Running xelatex 3 times: [u'xelatex', u'./notebook.tex', '-quiet']\n",
            "[NbConvertApp] Running bibtex 1 time: [u'bibtex', u'./notebook']\n",
            "[NbConvertApp] WARNING | bibtex had problems, most likely because there were no citations\n",
            "[NbConvertApp] PDF successfully created\n",
            "[NbConvertApp] Writing 60340 bytes to /content/drive/My Drive/Notebook_submission.pdf\n"
          ]
        },
        {
          "output_type": "display_data",
          "data": {
            "application/javascript": [
              "\n",
              "    async function download(id, filename, size) {\n",
              "      if (!google.colab.kernel.accessAllowed) {\n",
              "        return;\n",
              "      }\n",
              "      const div = document.createElement('div');\n",
              "      const label = document.createElement('label');\n",
              "      label.textContent = `Downloading \"${filename}\": `;\n",
              "      div.appendChild(label);\n",
              "      const progress = document.createElement('progress');\n",
              "      progress.max = size;\n",
              "      div.appendChild(progress);\n",
              "      document.body.appendChild(div);\n",
              "\n",
              "      const buffers = [];\n",
              "      let downloaded = 0;\n",
              "\n",
              "      const channel = await google.colab.kernel.comms.open(id);\n",
              "      // Send a message to notify the kernel that we're ready.\n",
              "      channel.send({})\n",
              "\n",
              "      for await (const message of channel.messages) {\n",
              "        // Send a message to notify the kernel that we're ready.\n",
              "        channel.send({})\n",
              "        if (message.buffers) {\n",
              "          for (const buffer of message.buffers) {\n",
              "            buffers.push(buffer);\n",
              "            downloaded += buffer.byteLength;\n",
              "            progress.value = downloaded;\n",
              "          }\n",
              "        }\n",
              "      }\n",
              "      const blob = new Blob(buffers, {type: 'application/binary'});\n",
              "      const a = document.createElement('a');\n",
              "      a.href = window.URL.createObjectURL(blob);\n",
              "      a.download = filename;\n",
              "      div.appendChild(a);\n",
              "      a.click();\n",
              "      div.remove();\n",
              "    }\n",
              "  "
            ],
            "text/plain": [
              "<IPython.core.display.Javascript object>"
            ]
          },
          "metadata": {}
        },
        {
          "output_type": "display_data",
          "data": {
            "application/javascript": [
              "download(\"download_27847912-4bab-4349-b428-c09244a9478a\", \"Notebook_submission.pdf\", 60340)"
            ],
            "text/plain": [
              "<IPython.core.display.Javascript object>"
            ]
          },
          "metadata": {}
        },
        {
          "output_type": "execute_result",
          "data": {
            "application/vnd.google.colaboratory.intrinsic+json": {
              "type": "string"
            },
            "text/plain": [
              "'File ready to be Downloaded and Saved to Drive'"
            ]
          },
          "metadata": {},
          "execution_count": 31
        }
      ]
    },
    {
      "cell_type": "code",
      "metadata": {
        "id": "B33PwI_EZCJ6"
      },
      "source": [
        ""
      ],
      "execution_count": null,
      "outputs": []
    }
  ]
}